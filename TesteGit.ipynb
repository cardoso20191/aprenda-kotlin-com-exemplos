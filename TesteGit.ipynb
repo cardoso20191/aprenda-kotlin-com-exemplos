{
  "nbformat": 4,
  "nbformat_minor": 0,
  "metadata": {
    "colab": {
      "provenance": [],
      "authorship_tag": "ABX9TyOXcxD8ywl9/l0LYwZl1jcC",
      "include_colab_link": true
    },
    "kernelspec": {
      "name": "python3",
      "display_name": "Python 3"
    },
    "language_info": {
      "name": "python"
    }
  },
  "cells": [
    {
      "cell_type": "markdown",
      "metadata": {
        "id": "view-in-github",
        "colab_type": "text"
      },
      "source": [
        "<a href=\"https://colab.research.google.com/github/cardoso20191/aprenda-kotlin-com-exemplos/blob/main/TesteGit.ipynb\" target=\"_parent\"><img src=\"https://colab.research.google.com/assets/colab-badge.svg\" alt=\"Open In Colab\"/></a>"
      ]
    },
    {
      "cell_type": "code",
      "execution_count": null,
      "metadata": {
        "id": "HPMbD6-SdSbh"
      },
      "outputs": [],
      "source": []
    },
    {
      "cell_type": "markdown",
      "source": [
        "# Isso é um teste de conexão entre Git e Colab\n",
        "\n",
        "versão 1\n",
        "versão 2"
      ],
      "metadata": {
        "id": "COjKTkPZdUp_"
      }
    }
  ]
}